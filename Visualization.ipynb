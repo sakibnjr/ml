{
 "cells": [
  {
   "cell_type": "code",
   "execution_count": null,
   "id": "b5bd17af-51dd-40ae-8aa4-2787bbd08fed",
   "metadata": {},
   "outputs": [],
   "source": [
    "import matplotlib.pyplot as plt\n",
    "import seaborn as sns"
   ]
  },
  {
   "cell_type": "code",
   "execution_count": null,
   "id": "b26eec2c-eb6b-4c76-bff8-19041823c40f",
   "metadata": {},
   "outputs": [],
   "source": [
    "sns.heatmap(df.isnull(),yticklabels=False,cbar=False,cmap='viridis')"
   ]
  },
  {
   "cell_type": "code",
   "execution_count": null,
   "id": "032131af-97cd-4f59-aeb8-f1ef5e201013",
   "metadata": {},
   "outputs": [],
   "source": [
    "percentage_data = df.notnull().mean() * 100\n",
    "\n",
    "plt.figure(figsize=(10, 7))\n",
    "plt.pie(percentage_data, labels=percentage_data.index, autopct='%1.1f%%', startangle=140)\n",
    "plt.title('Percentage of Non-Null Data in Each Column')\n",
    "plt.show()"
   ]
  },
  {
   "cell_type": "code",
   "execution_count": null,
   "id": "ec1ae91f-c947-4b67-9361-688f602a9488",
   "metadata": {},
   "outputs": [],
   "source": [
    "df['Age'].value_counts().plot(kind='bar')"
   ]
  },
  {
   "cell_type": "code",
   "execution_count": null,
   "id": "9eab23c0-7605-4469-b5b5-2a6309d1c13c",
   "metadata": {},
   "outputs": [],
   "source": []
  },
  {
   "cell_type": "code",
   "execution_count": null,
   "id": "0b72be89-cabb-4b3c-a78c-72cc17628184",
   "metadata": {},
   "outputs": [],
   "source": [
    "# List of columns to plot\n",
    "columns_to_plot = ['Age', 'Ticket', 'Fare']  # Add your other columns here\n",
    "\n",
    "# Plotting each column\n",
    "for column in columns_to_plot:\n",
    "    df[column].value_counts().plot(kind='bar', title=f'Distribution of {column}')\n",
    "    plt.xlabel(column)\n",
    "    plt.ylabel('Frequency')\n",
    "    plt.show()"
   ]
  },
  {
   "cell_type": "code",
   "execution_count": null,
   "id": "ea691bf8-5b61-4ef9-a711-be77f4856764",
   "metadata": {},
   "outputs": [],
   "source": [
    "sns.heatmap(df_encoded.corr(), annot=True, cmap='coolwarm')"
   ]
  },
  {
   "cell_type": "code",
   "execution_count": null,
   "id": "41de3c07-4e8c-4c69-9e62-56861f73b2fa",
   "metadata": {},
   "outputs": [],
   "source": [
    "from sklearn.metrics import classification_report\n",
    "\n",
    "print(classification_report(ytest,y_pred))"
   ]
  },
  {
   "cell_type": "code",
   "execution_count": null,
   "id": "a8bdd4c9-0602-4b6e-b001-8a90704222f9",
   "metadata": {},
   "outputs": [],
   "source": [
    "from sklearn.metrics import confusion_matrix\n",
    "from sklearn.metrics import plot_confusion_matrix"
   ]
  },
  {
   "cell_type": "code",
   "execution_count": null,
   "id": "ab9bd36c-474c-4854-b1bb-8199d5804b94",
   "metadata": {},
   "outputs": [],
   "source": [
    "print(confusion_matrix(y_test, y_pred, labels=[2,1,0]))"
   ]
  },
  {
   "cell_type": "code",
   "execution_count": null,
   "id": "87eb569f-9a9c-4978-bb50-da9d0050994e",
   "metadata": {},
   "outputs": [],
   "source": [
    "plot_confusion_matrix(lgrg, x_test, y_test, cmap='Blues', display_labels=['Negative', 'Positive','t'])\n",
    "plt.show()"
   ]
  },
  {
   "cell_type": "code",
   "execution_count": null,
   "id": "146cb2d2-af9c-449b-9ff3-22cd53a851da",
   "metadata": {},
   "outputs": [],
   "source": [
    "plot_confusion_matrix(dtc, x_test, y_test, cmap='Blues')\n",
    "plt.show()"
   ]
  },
  {
   "cell_type": "code",
   "execution_count": null,
   "id": "456b037a-f23a-4fda-9c08-a38c3b6e248b",
   "metadata": {},
   "outputs": [],
   "source": [
    "import matplotlib.pyplot as plt\n",
    "\n",
    "# List of columns to plot\n",
    "columns_to_plot = ['Age',]  # Add your other columns here\n",
    "\n",
    "# Define a function to plot each column's distribution as a histogram\n",
    "def plot_distribution(column):\n",
    "  df[column].hist(bins=10, figsize=(5, 5))  # Adjust bins and figure size as needed\n",
    "  plt.xlabel(column)\n",
    "  plt.ylabel('Frequency')\n",
    "  plt.title(f'Histogram of {column}')\n",
    "  plt.show()\n",
    "\n",
    "# Call the function for each column\n",
    "for col in columns_to_plot:\n",
    "  plot_distribution(col)"
   ]
  },
  {
   "cell_type": "code",
   "execution_count": null,
   "id": "1699bea4-5ddd-4843-a6ad-e773b0aca0fe",
   "metadata": {},
   "outputs": [],
   "source": [
    "def input_nan(newdata,var,mean,median,mode):\n",
    "    newdata[var+\"_mean\"]=newdata[var].fillna(mean)\n",
    "    newdata[var+\"_median\"]=newdata[var].fillna(median)\n",
    "    newdata[var+\"_mode\"]=newdata[var].fillna(mode)\n",
    "\n",
    "input_nan(newdata,\"Age\",mean,median,modeAge)\n",
    "newdata"
   ]
  },
  {
   "cell_type": "code",
   "execution_count": null,
   "id": "a1ff0ae4-3f5f-4214-84a4-e572c91557c8",
   "metadata": {},
   "outputs": [],
   "source": [
    "newdata['Age'].plot(kind='kde', label='Age') #kind = kde,\n",
    "newdata['Age_mean'].plot(kind='kde', label='Age Mean')\n",
    "newdata['Age_median'].plot(kind='kde', label='Age Median')\n",
    "newdata['Age_mode'].plot(kind='kde', label='Age Mode')\n",
    "plt.legend()"
   ]
  },
  {
   "cell_type": "code",
   "execution_count": null,
   "id": "aca8f99d-98fe-4ac1-a15a-6ee610a14fc2",
   "metadata": {},
   "outputs": [],
   "source": [
    "def input_random(data,var):\n",
    "     data[var+\"_random\"]=data[var];\n",
    "     random_sample=data[var].dropna().sample(data[var].isnull().sum(),random_state=0)\n",
    "     random_sample.index=data[data[var].isnull()].index\n",
    "     data.loc[data[var].isnull(),var+\"_random\"]=random_sample\n",
    "input_random(newdata,'Age')\n",
    "\n",
    "newdata"
   ]
  },
  {
   "cell_type": "code",
   "execution_count": null,
   "id": "32f13fb8-0b12-45a6-a165-766cee7e70e9",
   "metadata": {},
   "outputs": [],
   "source": [
    "newdata['Age'].plot(kind='kde', label='Age') #kind = kde,\n",
    "newdata['Age_mean'].plot(kind='kde', label='Age Mean')\n",
    "newdata['Age_median'].plot(kind='kde', label='Age Median')\n",
    "newdata['Age_mode'].plot(kind='kde', label='Age Mode')\n",
    "newdata['Age_random'].plot(kind='kde', label='Age Random')\n",
    "plt.legend()"
   ]
  }
 ],
 "metadata": {
  "kernelspec": {
   "display_name": "Python 3 (ipykernel)",
   "language": "python",
   "name": "python3"
  },
  "language_info": {
   "codemirror_mode": {
    "name": "ipython",
    "version": 3
   },
   "file_extension": ".py",
   "mimetype": "text/x-python",
   "name": "python",
   "nbconvert_exporter": "python",
   "pygments_lexer": "ipython3",
   "version": "3.12.3"
  }
 },
 "nbformat": 4,
 "nbformat_minor": 5
}
