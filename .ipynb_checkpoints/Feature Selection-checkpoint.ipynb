{
 "cells": [
  {
   "cell_type": "code",
   "execution_count": null,
   "id": "1f2a8d77-d491-4d9e-8edb-d53dae56b11f",
   "metadata": {},
   "outputs": [],
   "source": [
    "X = df_encoded.drop(columns=['Survived'])\n",
    "X"
   ]
  },
  {
   "cell_type": "code",
   "execution_count": null,
   "id": "1e0c7678-c3f2-4af0-abfd-18233e92a87a",
   "metadata": {},
   "outputs": [],
   "source": [
    "y = df_encoded['Survived']\n",
    "y"
   ]
  },
  {
   "cell_type": "code",
   "execution_count": null,
   "id": "a80ad1f9-a31e-4934-8060-fc3beeff1333",
   "metadata": {},
   "outputs": [],
   "source": [
    "from sklearn.model_selection import train_test_split\n",
    "X_train, X_test, y_train, y_test = train_test_split(X, y, test_size=0.2, random_state=42)"
   ]
  },
  {
   "cell_type": "code",
   "execution_count": null,
   "id": "206fede7-93ea-49b8-86f9-05c719b349c0",
   "metadata": {},
   "outputs": [],
   "source": [
    "from sklearn.feature_selection import SelectKBest, f_classif, chi2\n"
   ]
  },
  {
   "cell_type": "markdown",
   "id": "040e76f8-b5f8-4d74-bb1b-a3094c993adf",
   "metadata": {},
   "source": [
    "Chi-squared (chi2): Categorical features and target variables."
   ]
  },
  {
   "cell_type": "code",
   "execution_count": null,
   "id": "f1db5376-2607-4a42-929f-24423ba620b7",
   "metadata": {},
   "outputs": [],
   "source": [
    "selector_chi2 = SelectKBest(chi2, k=10)\n",
    "X_train_chi2 = selector_chi2.fit_transform(X_train, y_train)\n",
    "X_test_chi2 = selector_chi2.transform(X_test)\n"
   ]
  },
  {
   "cell_type": "code",
   "execution_count": null,
   "id": "5ae7f243-3605-4134-b701-cad696bfd20c",
   "metadata": {},
   "outputs": [],
   "source": [
    "X_train_chi2 = selector_chi2.fit_transform(X_train, y_train)\n",
    "X_test_chi2 = selector_chi2.transform(X_test)\n"
   ]
  },
  {
   "cell_type": "code",
   "execution_count": null,
   "id": "e6b8dbdf-8737-470a-bea4-756bbcbdfc2b",
   "metadata": {},
   "outputs": [],
   "source": [
    "rf = RandomForestClassifier()\n",
    "rf.fit(X_train_chi2, y_train)"
   ]
  },
  {
   "cell_type": "code",
   "execution_count": null,
   "id": "1b2755b6-ab63-4cdf-a056-de106280e1c4",
   "metadata": {},
   "outputs": [],
   "source": [
    "y_pred_chi2 = rf.predict(X_test_chi2)\n",
    "accuracy_chi2 = accuracy_score(y_test, y_pred_chi2)\n",
    "print(f\"Accuracy (chi2): {accuracy_chi2}\")\n"
   ]
  },
  {
   "cell_type": "code",
   "execution_count": null,
   "id": "3d57820b-a88f-4870-a19a-6317a92f953e",
   "metadata": {},
   "outputs": [],
   "source": [
    "print(f\"Selected features (chi2): {X_train.columns[selector_chi2.get_support()]}\")"
   ]
  },
  {
   "cell_type": "markdown",
   "id": "453849cc-c9d1-4d91-b666-ba717a877ea8",
   "metadata": {},
   "source": [
    "F-statistic (f_classif): Continuous features and target variables"
   ]
  },
  {
   "cell_type": "code",
   "execution_count": null,
   "id": "e5c35807-3ba3-4f8e-a848-aa68fc1f4404",
   "metadata": {},
   "outputs": [],
   "source": [
    "selector_f_classif = SelectKBest(f_classif, k=2)\n",
    "X_train_f_classif = selector_f_classif.fit_transform(X_train, y_train)\n",
    "X_test_f_classif = selector_f_classif.transform(X_test)\n",
    "\n",
    "model_f_classif = LogisticRegression()\n",
    "model_f_classif.fit(X_train_f_classif, y_train)\n",
    "\n",
    "y_pred_f_classif = model_f_classif.predict(X_test_f_classif)\n",
    "accuracy_f_classif = accuracy_score(y_test, y_pred_f_classif)\n",
    "print(f\"Accuracy (f_classif): {accuracy_f_classif}\")"
   ]
  }
 ],
 "metadata": {
  "kernelspec": {
   "display_name": "Python 3 (ipykernel)",
   "language": "python",
   "name": "python3"
  },
  "language_info": {
   "codemirror_mode": {
    "name": "ipython",
    "version": 3
   },
   "file_extension": ".py",
   "mimetype": "text/x-python",
   "name": "python",
   "nbconvert_exporter": "python",
   "pygments_lexer": "ipython3",
   "version": "3.12.3"
  }
 },
 "nbformat": 4,
 "nbformat_minor": 5
}
