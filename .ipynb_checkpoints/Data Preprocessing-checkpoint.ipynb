{
 "cells": [
  {
   "cell_type": "code",
   "execution_count": null,
   "id": "46b73629-2ffb-4260-b694-a1f9f557bfe5",
   "metadata": {},
   "outputs": [],
   "source": [
    "import numpy as np\n",
    "import pandas as pd"
   ]
  },
  {
   "cell_type": "code",
   "execution_count": null,
   "id": "0dc3a761-aaeb-48fa-8c53-1ec38e6f58c8",
   "metadata": {},
   "outputs": [],
   "source": [
    "df.drop(['PassengerId','Name','Cabin','Ticket'],axis=1, inplace=True)"
   ]
  },
  {
   "cell_type": "code",
   "execution_count": null,
   "id": "bc38e8c0-dc76-4e20-bd22-5b12d3dc5d3d",
   "metadata": {},
   "outputs": [],
   "source": [
    "df['Embarked']=df['Embarked'].fillna(df['Embarked'].mode()[0])"
   ]
  },
  {
   "cell_type": "code",
   "execution_count": null,
   "id": "eb5c072c-b653-4556-823b-8acf93a395b8",
   "metadata": {},
   "outputs": [],
   "source": [
    "def fill_null_with_random(df, column_name):\n",
    "    # Count the number of null values in the specified column\n",
    "    null_count = df[column_name].isnull().sum()\n",
    "\n",
    "    # Generate random values from the non-null values in the column\n",
    "    random_values = df[column_name].dropna().sample(null_count, replace=True)\n",
    "\n",
    "    # Replace null values with random values\n",
    "    df.loc[df[column_name].isnull(), column_name] = random_values.values\n",
    "\n",
    "    return df\n",
    "\n",
    "df = fill_null_with_random(df, \"Age\")"
   ]
  },
  {
   "cell_type": "code",
   "execution_count": null,
   "id": "23bb18d0-c056-4bdc-904c-2bd12795cf6b",
   "metadata": {},
   "outputs": [],
   "source": [
    "def remove_outliers_zscore(df, column, threshold=3):\n",
    "  # Calculate Z-scores for the column\n",
    "  z = np.abs((df[column] - df[column].mean()) / df[column].std())\n",
    "\n",
    "  # Identify outliers\n",
    "  outliers = df[z > threshold]\n",
    "\n",
    "  # Remove outliers\n",
    "  df_cleaned = df[z <= threshold]\n",
    "\n",
    "  return df_cleaned\n",
    "\n",
    "df_cleaned = remove_outliers_zscore(df, 'price')\n",
    "\n",
    "print(f\"Original data:\\n{df}\\n\")\n",
    "print(f\"Cleaned data:\\n{df_cleaned}\")\n",
    "\n",
    "outlier_columns = ['column1', 'column2', 'column3']\n",
    "for column in outlier_columns:\n",
    "    df = remove_outliers_zscore(df, column)\n",
    "print(df)"
   ]
  },
  {
   "cell_type": "code",
   "execution_count": null,
   "id": "a6a512ea-370f-4130-9a30-4a1f2c5c3364",
   "metadata": {},
   "outputs": [],
   "source": []
  },
  {
   "cell_type": "code",
   "execution_count": null,
   "id": "dacc2e04-4d1f-4161-a656-d56f9035dd2b",
   "metadata": {},
   "outputs": [],
   "source": []
  }
 ],
 "metadata": {
  "kernelspec": {
   "display_name": "Python 3 (ipykernel)",
   "language": "python",
   "name": "python3"
  },
  "language_info": {
   "codemirror_mode": {
    "name": "ipython",
    "version": 3
   },
   "file_extension": ".py",
   "mimetype": "text/x-python",
   "name": "python",
   "nbconvert_exporter": "python",
   "pygments_lexer": "ipython3",
   "version": "3.12.3"
  }
 },
 "nbformat": 4,
 "nbformat_minor": 5
}
