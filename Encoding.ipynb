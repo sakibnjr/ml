{
 "cells": [
  {
   "cell_type": "markdown",
   "id": "275818ab-617a-4035-9d84-660e5127c0e0",
   "metadata": {},
   "source": [
    "Label Encoder:\n",
    "for dataset with -> low, high, medium/ Good, average, poor type data……\n",
    "value means something low 1, medium 2, high 3\n",
    "\n",
    "\n"
   ]
  },
  {
   "cell_type": "markdown",
   "id": "89f252eb-2666-43b4-8968-0aba6b474113",
   "metadata": {},
   "source": [
    "One Hot Encoding -> dataset (Red, Blue, Black)\n",
    "has no connection between column data's\n",
    "\n"
   ]
  },
  {
   "cell_type": "code",
   "execution_count": null,
   "id": "df17b5db-1f70-470d-8d0d-3588991617a4",
   "metadata": {},
   "outputs": [],
   "source": [
    "def get_dummies_for_categorical(df):\n",
    "\n",
    "  categorical_cols = df.select_dtypes(include=['object']).columns\n",
    "\n",
    "  df_encoded = pd.get_dummies(df, columns=categorical_cols, prefix_sep='_')\n",
    "\n",
    "  for col in df_encoded.columns:\n",
    "    if df_encoded[col].dtype == 'bool':\n",
    "      df_encoded[col] = df_encoded[col].astype(int)\n",
    "\n",
    "  return df_encoded\n",
    "\n",
    "df_encoded = get_dummies_for_categorical(df)\n",
    "\n",
    "df_encoded"
   ]
  },
  {
   "cell_type": "code",
   "execution_count": null,
   "id": "58e97f8d-0280-4b8d-8850-7752ec867537",
   "metadata": {},
   "outputs": [],
   "source": [
    "from sklearn.preprocessing import LabelEncoder"
   ]
  },
  {
   "cell_type": "code",
   "execution_count": null,
   "id": "6315ef48-3193-4d6a-972d-ea5d3d1549b8",
   "metadata": {},
   "outputs": [],
   "source": [
    "categorical_columns = df.select_dtypes(include=['object']).columns\n",
    "print(categorical_columns)"
   ]
  },
  {
   "cell_type": "code",
   "execution_count": null,
   "id": "fdfa9a96-ed1c-42ae-9538-d3b81a50129a",
   "metadata": {},
   "outputs": [],
   "source": [
    "label_encoders = {}\n",
    "\n",
    "for col in categorical_columns:\n",
    "    label_encoders[col] = LabelEncoder()\n",
    "    df[col] = label_encoders[col].fit_transform(df[col])\n",
    "df"
   ]
  },
  {
   "cell_type": "code",
   "execution_count": null,
   "id": "c3eba43d-3da9-4b32-8c8e-ccec850c3396",
   "metadata": {},
   "outputs": [],
   "source": []
  }
 ],
 "metadata": {
  "kernelspec": {
   "display_name": "Python 3 (ipykernel)",
   "language": "python",
   "name": "python3"
  },
  "language_info": {
   "codemirror_mode": {
    "name": "ipython",
    "version": 3
   },
   "file_extension": ".py",
   "mimetype": "text/x-python",
   "name": "python",
   "nbconvert_exporter": "python",
   "pygments_lexer": "ipython3",
   "version": "3.12.3"
  }
 },
 "nbformat": 4,
 "nbformat_minor": 5
}
